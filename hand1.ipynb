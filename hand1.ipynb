{
 "cells": [
  {
   "cell_type": "code",
   "execution_count": 234,
   "metadata": {},
   "outputs": [],
   "source": [
    "import tensorflow as tf\n",
    "\n",
    "from tensorflow.keras import datasets, layers, models\n",
    "from tensorflow.keras.models import Sequential\n",
    "from tensorflow.keras.layers import Dense\n",
    "from tensorflow.keras.layers import LSTM\n",
    "from tensorflow.keras.layers import Dropout\n",
    "import matplotlib.pyplot as plt"
   ]
  },
  {
   "cell_type": "code",
   "execution_count": 223,
   "metadata": {},
   "outputs": [
    {
     "name": "stdout",
     "output_type": "stream",
     "text": [
      "Class 0 Shape (2910, 65)\n",
      "Class 1 Shape (2903, 65)\n",
      "Class 2 Shape (2943, 65)\n",
      "Class 3 Shape (2922, 65)\n"
     ]
    }
   ],
   "source": [
    "df0 = pd.read_csv(\"hand_data/0.csv\", header=None)\n",
    "print(\"Class 0 Shape\", df0.shape)\n",
    "df1 = pd.read_csv(\"hand_data/1.csv\", header=None)\n",
    "print(\"Class 1 Shape\", df1.shape)\n",
    "df2 = pd.read_csv(\"hand_data/2.csv\", header=None)\n",
    "print(\"Class 2 Shape\", df2.shape)\n",
    "df3 = pd.read_csv(\"hand_data/3.csv\", header=None)\n",
    "print(\"Class 3 Shape\", df3.shape)\n",
    "\n",
    "df = pd.concat([df0,df1,df2,df3])\n",
    "data = df.values"
   ]
  },
  {
   "cell_type": "code",
   "execution_count": 224,
   "metadata": {},
   "outputs": [
    {
     "data": {
      "text/plain": [
       "((2910, 65), (2903, 65), (2943, 65), (2922, 65), (11678, 65))"
      ]
     },
     "execution_count": 224,
     "metadata": {},
     "output_type": "execute_result"
    }
   ],
   "source": [
    "df0.shape, df1.shape, df2.shape, df3.shape, data.shape"
   ]
  },
  {
   "cell_type": "code",
   "execution_count": 225,
   "metadata": {},
   "outputs": [],
   "source": [
    "x = df.loc[:,0:63]\n",
    "y = df[64]"
   ]
  },
  {
   "cell_type": "code",
   "execution_count": 226,
   "metadata": {},
   "outputs": [],
   "source": [
    "x = np.array(x)\n",
    "y= np.array(y)"
   ]
  },
  {
   "cell_type": "code",
   "execution_count": 227,
   "metadata": {},
   "outputs": [
    {
     "name": "stdout",
     "output_type": "stream",
     "text": [
      "(11678, 8, 8)\n",
      "(11678,)\n"
     ]
    }
   ],
   "source": [
    "x = x.reshape(x.shape[0]*x.shape[1], 1)\n",
    "sc = StandardScaler()\n",
    "x = sc.fit_transform(x)\n",
    "x = x.reshape((-1, 8, 8))\n",
    "\n",
    "\n",
    "print(x.shape)\n",
    "print(y.shape)"
   ]
  },
  {
   "cell_type": "code",
   "execution_count": 228,
   "metadata": {},
   "outputs": [],
   "source": [
    "y = np.eye(np.max(y) + 1)[y]\n",
    "from sklearn.model_selection import train_test_split\n",
    "x_train, x_test, y_train, y_test = train_test_split(x, y, test_size=0.25, random_state=42,stratify=y)"
   ]
  },
  {
   "cell_type": "code",
   "execution_count": 229,
   "metadata": {},
   "outputs": [
    {
     "name": "stdout",
     "output_type": "stream",
     "text": [
      "X_train shape: (8758, 8, 8)\n",
      "y_train shape: (8758, 4)\n",
      "x_test shape: (2920, 8, 8)\n",
      "y_test shape: (2920, 4)\n"
     ]
    }
   ],
   "source": [
    "print (\"X_train shape: \" + str(x_train.shape))\n",
    "print (\"y_train shape: \" + str(y_train.shape))\n",
    "print (\"x_test shape: \" + str(x_test.shape))\n",
    "print (\"y_test shape: \" + str(y_test.shape))"
   ]
  },
  {
   "cell_type": "code",
   "execution_count": 231,
   "metadata": {},
   "outputs": [
    {
     "ename": "ValueError",
     "evalue": "Input 0 of layer \"conv2d_89\" is incompatible with the layer: expected min_ndim=4, found ndim=3. Full shape received: (None, 8, 8)",
     "output_type": "error",
     "traceback": [
      "\u001b[1;31m---------------------------------------------------------------------------\u001b[0m",
      "\u001b[1;31mValueError\u001b[0m                                Traceback (most recent call last)",
      "\u001b[1;32m~\\AppData\\Local\\Temp/ipykernel_16652/3745966723.py\u001b[0m in \u001b[0;36m<module>\u001b[1;34m\u001b[0m\n\u001b[0;32m      1\u001b[0m \u001b[0mmodel\u001b[0m \u001b[1;33m=\u001b[0m \u001b[0mmodels\u001b[0m\u001b[1;33m.\u001b[0m\u001b[0mSequential\u001b[0m\u001b[1;33m(\u001b[0m\u001b[1;33m)\u001b[0m\u001b[1;33m\u001b[0m\u001b[1;33m\u001b[0m\u001b[0m\n\u001b[1;32m----> 2\u001b[1;33m \u001b[0mmodel\u001b[0m\u001b[1;33m.\u001b[0m\u001b[0madd\u001b[0m\u001b[1;33m(\u001b[0m\u001b[0mlayers\u001b[0m\u001b[1;33m.\u001b[0m\u001b[0mConv2D\u001b[0m\u001b[1;33m(\u001b[0m\u001b[1;36m32\u001b[0m\u001b[1;33m,\u001b[0m \u001b[1;33m(\u001b[0m\u001b[1;36m2\u001b[0m\u001b[1;33m,\u001b[0m \u001b[1;36m2\u001b[0m\u001b[1;33m)\u001b[0m\u001b[1;33m,\u001b[0m \u001b[0mactivation\u001b[0m\u001b[1;33m=\u001b[0m\u001b[1;34m'relu'\u001b[0m\u001b[1;33m,\u001b[0m \u001b[0minput_shape\u001b[0m\u001b[1;33m=\u001b[0m\u001b[1;33m(\u001b[0m\u001b[0mx_train\u001b[0m\u001b[1;33m.\u001b[0m\u001b[0mshape\u001b[0m\u001b[1;33m[\u001b[0m\u001b[1;36m1\u001b[0m\u001b[1;33m]\u001b[0m\u001b[1;33m,\u001b[0m \u001b[1;36m8\u001b[0m\u001b[1;33m)\u001b[0m\u001b[1;33m)\u001b[0m\u001b[1;33m)\u001b[0m\u001b[1;33m\u001b[0m\u001b[1;33m\u001b[0m\u001b[0m\n\u001b[0m\u001b[0;32m      3\u001b[0m \u001b[0mmodel\u001b[0m\u001b[1;33m.\u001b[0m\u001b[0madd\u001b[0m\u001b[1;33m(\u001b[0m\u001b[0mlayers\u001b[0m\u001b[1;33m.\u001b[0m\u001b[0mMaxPooling2D\u001b[0m\u001b[1;33m(\u001b[0m\u001b[1;33m(\u001b[0m\u001b[1;36m2\u001b[0m\u001b[1;33m,\u001b[0m \u001b[1;36m2\u001b[0m\u001b[1;33m)\u001b[0m\u001b[1;33m)\u001b[0m\u001b[1;33m)\u001b[0m\u001b[1;33m\u001b[0m\u001b[1;33m\u001b[0m\u001b[0m\n\u001b[0;32m      4\u001b[0m \u001b[0mmodel\u001b[0m\u001b[1;33m.\u001b[0m\u001b[0madd\u001b[0m\u001b[1;33m(\u001b[0m\u001b[0mlayers\u001b[0m\u001b[1;33m.\u001b[0m\u001b[0mConv2D\u001b[0m\u001b[1;33m(\u001b[0m\u001b[1;36m64\u001b[0m\u001b[1;33m,\u001b[0m \u001b[1;33m(\u001b[0m\u001b[1;36m2\u001b[0m\u001b[1;33m,\u001b[0m \u001b[1;36m2\u001b[0m\u001b[1;33m)\u001b[0m\u001b[1;33m,\u001b[0m \u001b[0mactivation\u001b[0m\u001b[1;33m=\u001b[0m\u001b[1;34m'relu'\u001b[0m\u001b[1;33m)\u001b[0m\u001b[1;33m)\u001b[0m\u001b[1;33m\u001b[0m\u001b[1;33m\u001b[0m\u001b[0m\n\u001b[0;32m      5\u001b[0m \u001b[0mmodel\u001b[0m\u001b[1;33m.\u001b[0m\u001b[0madd\u001b[0m\u001b[1;33m(\u001b[0m\u001b[0mlayers\u001b[0m\u001b[1;33m.\u001b[0m\u001b[0mMaxPooling2D\u001b[0m\u001b[1;33m(\u001b[0m\u001b[1;33m(\u001b[0m\u001b[1;36m2\u001b[0m\u001b[1;33m,\u001b[0m \u001b[1;36m2\u001b[0m\u001b[1;33m)\u001b[0m\u001b[1;33m)\u001b[0m\u001b[1;33m)\u001b[0m\u001b[1;33m\u001b[0m\u001b[1;33m\u001b[0m\u001b[0m\n",
      "\u001b[1;32mc:\\Users\\U\\anaconda3\\lib\\site-packages\\tensorflow\\python\\trackable\\base.py\u001b[0m in \u001b[0;36m_method_wrapper\u001b[1;34m(self, *args, **kwargs)\u001b[0m\n\u001b[0;32m    203\u001b[0m     \u001b[0mself\u001b[0m\u001b[1;33m.\u001b[0m\u001b[0m_self_setattr_tracking\u001b[0m \u001b[1;33m=\u001b[0m \u001b[1;32mFalse\u001b[0m  \u001b[1;31m# pylint: disable=protected-access\u001b[0m\u001b[1;33m\u001b[0m\u001b[1;33m\u001b[0m\u001b[0m\n\u001b[0;32m    204\u001b[0m     \u001b[1;32mtry\u001b[0m\u001b[1;33m:\u001b[0m\u001b[1;33m\u001b[0m\u001b[1;33m\u001b[0m\u001b[0m\n\u001b[1;32m--> 205\u001b[1;33m       \u001b[0mresult\u001b[0m \u001b[1;33m=\u001b[0m \u001b[0mmethod\u001b[0m\u001b[1;33m(\u001b[0m\u001b[0mself\u001b[0m\u001b[1;33m,\u001b[0m \u001b[1;33m*\u001b[0m\u001b[0margs\u001b[0m\u001b[1;33m,\u001b[0m \u001b[1;33m**\u001b[0m\u001b[0mkwargs\u001b[0m\u001b[1;33m)\u001b[0m\u001b[1;33m\u001b[0m\u001b[1;33m\u001b[0m\u001b[0m\n\u001b[0m\u001b[0;32m    206\u001b[0m     \u001b[1;32mfinally\u001b[0m\u001b[1;33m:\u001b[0m\u001b[1;33m\u001b[0m\u001b[1;33m\u001b[0m\u001b[0m\n\u001b[0;32m    207\u001b[0m       \u001b[0mself\u001b[0m\u001b[1;33m.\u001b[0m\u001b[0m_self_setattr_tracking\u001b[0m \u001b[1;33m=\u001b[0m \u001b[0mprevious_value\u001b[0m  \u001b[1;31m# pylint: disable=protected-access\u001b[0m\u001b[1;33m\u001b[0m\u001b[1;33m\u001b[0m\u001b[0m\n",
      "\u001b[1;32mc:\\Users\\U\\anaconda3\\lib\\site-packages\\keras\\utils\\traceback_utils.py\u001b[0m in \u001b[0;36merror_handler\u001b[1;34m(*args, **kwargs)\u001b[0m\n\u001b[0;32m     68\u001b[0m             \u001b[1;31m# To get the full stack trace, call:\u001b[0m\u001b[1;33m\u001b[0m\u001b[1;33m\u001b[0m\u001b[0m\n\u001b[0;32m     69\u001b[0m             \u001b[1;31m# `tf.debugging.disable_traceback_filtering()`\u001b[0m\u001b[1;33m\u001b[0m\u001b[1;33m\u001b[0m\u001b[0m\n\u001b[1;32m---> 70\u001b[1;33m             \u001b[1;32mraise\u001b[0m \u001b[0me\u001b[0m\u001b[1;33m.\u001b[0m\u001b[0mwith_traceback\u001b[0m\u001b[1;33m(\u001b[0m\u001b[0mfiltered_tb\u001b[0m\u001b[1;33m)\u001b[0m \u001b[1;32mfrom\u001b[0m \u001b[1;32mNone\u001b[0m\u001b[1;33m\u001b[0m\u001b[1;33m\u001b[0m\u001b[0m\n\u001b[0m\u001b[0;32m     71\u001b[0m         \u001b[1;32mfinally\u001b[0m\u001b[1;33m:\u001b[0m\u001b[1;33m\u001b[0m\u001b[1;33m\u001b[0m\u001b[0m\n\u001b[0;32m     72\u001b[0m             \u001b[1;32mdel\u001b[0m \u001b[0mfiltered_tb\u001b[0m\u001b[1;33m\u001b[0m\u001b[1;33m\u001b[0m\u001b[0m\n",
      "\u001b[1;32mc:\\Users\\U\\anaconda3\\lib\\site-packages\\keras\\engine\\input_spec.py\u001b[0m in \u001b[0;36massert_input_compatibility\u001b[1;34m(input_spec, inputs, layer_name)\u001b[0m\n\u001b[0;32m    248\u001b[0m             \u001b[0mndim\u001b[0m \u001b[1;33m=\u001b[0m \u001b[0mx\u001b[0m\u001b[1;33m.\u001b[0m\u001b[0mshape\u001b[0m\u001b[1;33m.\u001b[0m\u001b[0mrank\u001b[0m\u001b[1;33m\u001b[0m\u001b[1;33m\u001b[0m\u001b[0m\n\u001b[0;32m    249\u001b[0m             \u001b[1;32mif\u001b[0m \u001b[0mndim\u001b[0m \u001b[1;32mis\u001b[0m \u001b[1;32mnot\u001b[0m \u001b[1;32mNone\u001b[0m \u001b[1;32mand\u001b[0m \u001b[0mndim\u001b[0m \u001b[1;33m<\u001b[0m \u001b[0mspec\u001b[0m\u001b[1;33m.\u001b[0m\u001b[0mmin_ndim\u001b[0m\u001b[1;33m:\u001b[0m\u001b[1;33m\u001b[0m\u001b[1;33m\u001b[0m\u001b[0m\n\u001b[1;32m--> 250\u001b[1;33m                 raise ValueError(\n\u001b[0m\u001b[0;32m    251\u001b[0m                     \u001b[1;34mf'Input {input_index} of layer \"{layer_name}\" '\u001b[0m\u001b[1;33m\u001b[0m\u001b[1;33m\u001b[0m\u001b[0m\n\u001b[0;32m    252\u001b[0m                     \u001b[1;34m\"is incompatible with the layer: \"\u001b[0m\u001b[1;33m\u001b[0m\u001b[1;33m\u001b[0m\u001b[0m\n",
      "\u001b[1;31mValueError\u001b[0m: Input 0 of layer \"conv2d_89\" is incompatible with the layer: expected min_ndim=4, found ndim=3. Full shape received: (None, 8, 8)"
     ]
    }
   ],
   "source": [
    "model = models.Sequential()\n",
    "model.add(layers.Conv2D(32, (2, 2), activation='relu', input_shape=(x_train.shape[1], 8)))\n",
    "model.add(layers.MaxPooling2D((2, 2)))\n",
    "model.add(layers.Conv2D(64, (2, 2), activation='relu'))\n",
    "model.add(layers.MaxPooling2D((2, 2)))\n",
    "model.add(layers.Conv2D(64, (2, 2), activation='relu'))"
   ]
  },
  {
   "cell_type": "code",
   "execution_count": 235,
   "metadata": {},
   "outputs": [
    {
     "name": "stdout",
     "output_type": "stream",
     "text": [
      "Model: \"sequential_5\"\n",
      "_________________________________________________________________\n",
      " Layer (type)                Output Shape              Param #   \n",
      "=================================================================\n",
      " lstm_4 (LSTM)               (None, 8, 50)             11800     \n",
      "                                                                 \n",
      " dropout_51 (Dropout)        (None, 8, 50)             0         \n",
      "                                                                 \n",
      " lstm_5 (LSTM)               (None, 8, 50)             20200     \n",
      "                                                                 \n",
      " dropout_52 (Dropout)        (None, 8, 50)             0         \n",
      "                                                                 \n",
      " lstm_6 (LSTM)               (None, 8, 50)             20200     \n",
      "                                                                 \n",
      " dropout_53 (Dropout)        (None, 8, 50)             0         \n",
      "                                                                 \n",
      " lstm_7 (LSTM)               (None, 50)                20200     \n",
      "                                                                 \n",
      " dropout_54 (Dropout)        (None, 50)                0         \n",
      "                                                                 \n",
      " dense_40 (Dense)            (None, 64)                3264      \n",
      "                                                                 \n",
      " dense_41 (Dense)            (None, 128)               8320      \n",
      "                                                                 \n",
      " dense_42 (Dense)            (None, 4)                 516       \n",
      "                                                                 \n",
      "=================================================================\n",
      "Total params: 84,500\n",
      "Trainable params: 84,500\n",
      "Non-trainable params: 0\n",
      "_________________________________________________________________\n"
     ]
    }
   ],
   "source": [
    "model = Sequential()\n",
    "\n",
    "model.add(LSTM(units=50, return_sequences=True, input_shape=(x_train.shape[1], 8)))\n",
    "model.add(Dropout(0.2))\n",
    "\n",
    "model.add(LSTM(units = 50, return_sequences = True))\n",
    "model.add(Dropout(0.2))\n",
    "\n",
    "model.add(LSTM(units = 50, return_sequences = True))\n",
    "model.add(Dropout(0.2))\n",
    "\n",
    "model.add(LSTM(units = 50))\n",
    "model.add(Dropout(0.2))\n",
    "\n",
    "model.add(Dense(units = 64))\n",
    "model.add(Dense(units = 128))\n",
    "\n",
    "model.add(Dense(units = 4, activation=\"softmax\"))\n",
    "model.compile(optimizer = \"adam\" , loss = \"binary_crossentropy\", metrics=[\"accuracy\"])\n",
    "\n",
    "\n",
    "model.summary()"
   ]
  },
  {
   "cell_type": "code",
   "execution_count": 236,
   "metadata": {},
   "outputs": [],
   "source": [
    "callback = tf.keras.callbacks.EarlyStopping(monitor='loss', patience=5)"
   ]
  },
  {
   "cell_type": "code",
   "execution_count": 237,
   "metadata": {},
   "outputs": [
    {
     "name": "stdout",
     "output_type": "stream",
     "text": [
      "Epoch 1/25\n",
      "219/219 - 22s - loss: 0.4019 - accuracy: 0.5360 - val_loss: 0.2700 - val_accuracy: 0.7409 - 22s/epoch - 100ms/step\n",
      "Epoch 2/25\n",
      "219/219 - 4s - loss: 0.2086 - accuracy: 0.8160 - val_loss: 0.1288 - val_accuracy: 0.9035 - 4s/epoch - 18ms/step\n",
      "Epoch 3/25\n",
      "219/219 - 4s - loss: 0.1135 - accuracy: 0.9214 - val_loss: 0.0839 - val_accuracy: 0.9441 - 4s/epoch - 18ms/step\n",
      "Epoch 4/25\n",
      "219/219 - 4s - loss: 0.0841 - accuracy: 0.9455 - val_loss: 0.0749 - val_accuracy: 0.9458 - 4s/epoch - 20ms/step\n",
      "Epoch 5/25\n",
      "219/219 - 5s - loss: 0.0686 - accuracy: 0.9533 - val_loss: 0.0643 - val_accuracy: 0.9532 - 5s/epoch - 21ms/step\n",
      "Epoch 6/25\n",
      "219/219 - 4s - loss: 0.0610 - accuracy: 0.9607 - val_loss: 0.0620 - val_accuracy: 0.9572 - 4s/epoch - 18ms/step\n",
      "Epoch 7/25\n",
      "219/219 - 4s - loss: 0.0548 - accuracy: 0.9642 - val_loss: 0.0552 - val_accuracy: 0.9578 - 4s/epoch - 17ms/step\n",
      "Epoch 8/25\n",
      "219/219 - 4s - loss: 0.0496 - accuracy: 0.9690 - val_loss: 0.0762 - val_accuracy: 0.9521 - 4s/epoch - 17ms/step\n",
      "Epoch 9/25\n",
      "219/219 - 4s - loss: 0.0483 - accuracy: 0.9700 - val_loss: 0.0671 - val_accuracy: 0.9543 - 4s/epoch - 18ms/step\n",
      "Epoch 10/25\n",
      "219/219 - 4s - loss: 0.0438 - accuracy: 0.9735 - val_loss: 0.0559 - val_accuracy: 0.9612 - 4s/epoch - 20ms/step\n",
      "Epoch 11/25\n",
      "219/219 - 4s - loss: 0.0453 - accuracy: 0.9705 - val_loss: 0.0521 - val_accuracy: 0.9623 - 4s/epoch - 17ms/step\n",
      "Epoch 12/25\n",
      "219/219 - 4s - loss: 0.0369 - accuracy: 0.9767 - val_loss: 0.0626 - val_accuracy: 0.9583 - 4s/epoch - 17ms/step\n",
      "Epoch 13/25\n",
      "219/219 - 4s - loss: 0.0384 - accuracy: 0.9762 - val_loss: 0.0517 - val_accuracy: 0.9652 - 4s/epoch - 17ms/step\n",
      "Epoch 14/25\n",
      "219/219 - 4s - loss: 0.0357 - accuracy: 0.9772 - val_loss: 0.0565 - val_accuracy: 0.9646 - 4s/epoch - 17ms/step\n",
      "Epoch 15/25\n",
      "219/219 - 4s - loss: 0.0310 - accuracy: 0.9802 - val_loss: 0.0497 - val_accuracy: 0.9692 - 4s/epoch - 17ms/step\n",
      "Epoch 16/25\n",
      "219/219 - 4s - loss: 0.0316 - accuracy: 0.9799 - val_loss: 0.0544 - val_accuracy: 0.9652 - 4s/epoch - 17ms/step\n",
      "Epoch 17/25\n",
      "219/219 - 4s - loss: 0.0305 - accuracy: 0.9817 - val_loss: 0.0506 - val_accuracy: 0.9652 - 4s/epoch - 17ms/step\n",
      "Epoch 18/25\n",
      "219/219 - 4s - loss: 0.0298 - accuracy: 0.9817 - val_loss: 0.0513 - val_accuracy: 0.9635 - 4s/epoch - 17ms/step\n",
      "Epoch 19/25\n",
      "219/219 - 4s - loss: 0.0265 - accuracy: 0.9840 - val_loss: 0.0541 - val_accuracy: 0.9680 - 4s/epoch - 17ms/step\n",
      "Epoch 20/25\n",
      "219/219 - 4s - loss: 0.0255 - accuracy: 0.9823 - val_loss: 0.0563 - val_accuracy: 0.9646 - 4s/epoch - 17ms/step\n",
      "Epoch 21/25\n",
      "219/219 - 4s - loss: 0.0250 - accuracy: 0.9839 - val_loss: 0.0503 - val_accuracy: 0.9658 - 4s/epoch - 17ms/step\n",
      "Epoch 22/25\n",
      "219/219 - 4s - loss: 0.0247 - accuracy: 0.9847 - val_loss: 0.0507 - val_accuracy: 0.9612 - 4s/epoch - 17ms/step\n",
      "Epoch 23/25\n",
      "219/219 - 4s - loss: 0.0213 - accuracy: 0.9872 - val_loss: 0.0618 - val_accuracy: 0.9658 - 4s/epoch - 17ms/step\n",
      "Epoch 24/25\n",
      "219/219 - 4s - loss: 0.0230 - accuracy: 0.9840 - val_loss: 0.0568 - val_accuracy: 0.9709 - 4s/epoch - 17ms/step\n",
      "Epoch 25/25\n",
      "219/219 - 4s - loss: 0.0218 - accuracy: 0.9867 - val_loss: 0.0545 - val_accuracy: 0.9669 - 4s/epoch - 17ms/step\n"
     ]
    }
   ],
   "source": [
    "history=model.fit(x_train, y_train, epochs = 25, batch_size = 32, verbose=2 , callbacks=[callback],validation_split=0.2,)"
   ]
  },
  {
   "cell_type": "code",
   "execution_count": 238,
   "metadata": {},
   "outputs": [
    {
     "data": {
      "text/plain": [
       "<matplotlib.legend.Legend at 0x18c8583d8e0>"
      ]
     },
     "execution_count": 238,
     "metadata": {},
     "output_type": "execute_result"
    },
    {
     "data": {
      "image/png": "[encoded data removed]",
      "text/plain": [
       "<Figure size 432x288 with 1 Axes>"
      ]
     },
     "metadata": {
      "needs_background": "light"
     },
     "output_type": "display_data"
    },
    {
     "data": {
      "image/png": "[encoded data removed]",
      "text/plain": [
       "<Figure size 432x288 with 1 Axes>"
      ]
     },
     "metadata": {
      "needs_background": "light"
     },
     "output_type": "display_data"
    }
   ],
   "source": [
    "plt.figure(0)\n",
    "\n",
    "plt.plot(history.history['accuracy'], label='training accuracy')\n",
    "plt.plot(history.history['val_accuracy'], label='val accuracy')\n",
    "plt.title('Accuracy')\n",
    "plt.xlabel('epochs')\n",
    "plt.ylabel('accuracy')\n",
    "plt.legend()\n",
    "\n",
    "plt.figure(1)\n",
    "plt.plot(history.history['loss'], label='training loss')\n",
    "plt.plot(history.history['val_loss'], label='val loss')\n",
    "plt.title('Loss')\n",
    "plt.xlabel('epochs')\n",
    "plt.ylabel('loss')\n",
    "plt.legend()"
   ]
  },
  {
   "cell_type": "code",
   "execution_count": null,
   "metadata": {},
   "outputs": [],
   "source": []
  }
 ],
 "metadata": {
  "kernelspec": {
   "display_name": "Python 3 (ipykernel)",
   "language": "python",
   "name": "python3"
  },
  "language_info": {
   "codemirror_mode": {
    "name": "ipython",
    "version": 3
   },
   "file_extension": ".py",
   "mimetype": "text/x-python",
   "name": "python",
   "nbconvert_exporter": "python",
   "pygments_lexer": "ipython3",
   "version": "3.9.7"
  },
  "vscode": {
   "interpreter": {
    "hash": "6e40ad84c8dedbe3a745b7ddd7699f72e8e84b5d7b6506ebeff40d82214c5bc7"
   }
  }
 },
 "nbformat": 4,
 "nbformat_minor": 2
}
